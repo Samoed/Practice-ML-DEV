{
 "cells": [
  {
   "cell_type": "code",
   "execution_count": 1,
   "metadata": {},
   "outputs": [],
   "source": [
    "import pandas as pd\n",
    "import joblib\n",
    "import os\n",
    "\n",
    "MODELS_DIR = os.path.join(os.getcwd(), \"../backend/models\")"
   ]
  },
  {
   "cell_type": "code",
   "execution_count": 2,
   "metadata": {},
   "outputs": [],
   "source": [
    "if not os.path.exists(MODELS_DIR):\n",
    "    os.mkdir(MODELS_DIR)"
   ]
  },
  {
   "cell_type": "code",
   "execution_count": 3,
   "metadata": {},
   "outputs": [
    {
     "data": {
      "text/html": [
       "<div>\n",
       "<style scoped>\n",
       "    .dataframe tbody tr th:only-of-type {\n",
       "        vertical-align: middle;\n",
       "    }\n",
       "\n",
       "    .dataframe tbody tr th {\n",
       "        vertical-align: top;\n",
       "    }\n",
       "\n",
       "    .dataframe thead th {\n",
       "        text-align: right;\n",
       "    }\n",
       "</style>\n",
       "<table border=\"1\" class=\"dataframe\">\n",
       "  <thead>\n",
       "    <tr style=\"text-align: right;\">\n",
       "      <th></th>\n",
       "      <th>Product ID</th>\n",
       "      <th>Product Title</th>\n",
       "      <th>Merchant ID</th>\n",
       "      <th>Cluster ID</th>\n",
       "      <th>Cluster Label</th>\n",
       "      <th>Category ID</th>\n",
       "      <th>Category Label</th>\n",
       "    </tr>\n",
       "  </thead>\n",
       "  <tbody>\n",
       "    <tr>\n",
       "      <th>0</th>\n",
       "      <td>1</td>\n",
       "      <td>apple iphone 8 plus 64gb silver</td>\n",
       "      <td>1</td>\n",
       "      <td>1</td>\n",
       "      <td>Apple iPhone 8 Plus 64GB</td>\n",
       "      <td>2612</td>\n",
       "      <td>Mobile Phones</td>\n",
       "    </tr>\n",
       "    <tr>\n",
       "      <th>1</th>\n",
       "      <td>2</td>\n",
       "      <td>apple iphone 8 plus 64 gb spacegrau</td>\n",
       "      <td>2</td>\n",
       "      <td>1</td>\n",
       "      <td>Apple iPhone 8 Plus 64GB</td>\n",
       "      <td>2612</td>\n",
       "      <td>Mobile Phones</td>\n",
       "    </tr>\n",
       "    <tr>\n",
       "      <th>2</th>\n",
       "      <td>3</td>\n",
       "      <td>apple mq8n2b/a iphone 8 plus 64gb 5.5 12mp sim...</td>\n",
       "      <td>3</td>\n",
       "      <td>1</td>\n",
       "      <td>Apple iPhone 8 Plus 64GB</td>\n",
       "      <td>2612</td>\n",
       "      <td>Mobile Phones</td>\n",
       "    </tr>\n",
       "    <tr>\n",
       "      <th>3</th>\n",
       "      <td>4</td>\n",
       "      <td>apple iphone 8 plus 64gb space grey</td>\n",
       "      <td>4</td>\n",
       "      <td>1</td>\n",
       "      <td>Apple iPhone 8 Plus 64GB</td>\n",
       "      <td>2612</td>\n",
       "      <td>Mobile Phones</td>\n",
       "    </tr>\n",
       "    <tr>\n",
       "      <th>4</th>\n",
       "      <td>5</td>\n",
       "      <td>apple iphone 8 plus gold 5.5 64gb 4g unlocked ...</td>\n",
       "      <td>5</td>\n",
       "      <td>1</td>\n",
       "      <td>Apple iPhone 8 Plus 64GB</td>\n",
       "      <td>2612</td>\n",
       "      <td>Mobile Phones</td>\n",
       "    </tr>\n",
       "  </tbody>\n",
       "</table>\n",
       "</div>"
      ],
      "text/plain": [
       "   Product ID                                      Product Title  \\\n",
       "0           1                    apple iphone 8 plus 64gb silver   \n",
       "1           2                apple iphone 8 plus 64 gb spacegrau   \n",
       "2           3  apple mq8n2b/a iphone 8 plus 64gb 5.5 12mp sim...   \n",
       "3           4                apple iphone 8 plus 64gb space grey   \n",
       "4           5  apple iphone 8 plus gold 5.5 64gb 4g unlocked ...   \n",
       "\n",
       "    Merchant ID   Cluster ID             Cluster Label   Category ID  \\\n",
       "0             1            1  Apple iPhone 8 Plus 64GB          2612   \n",
       "1             2            1  Apple iPhone 8 Plus 64GB          2612   \n",
       "2             3            1  Apple iPhone 8 Plus 64GB          2612   \n",
       "3             4            1  Apple iPhone 8 Plus 64GB          2612   \n",
       "4             5            1  Apple iPhone 8 Plus 64GB          2612   \n",
       "\n",
       "   Category Label  \n",
       "0   Mobile Phones  \n",
       "1   Mobile Phones  \n",
       "2   Mobile Phones  \n",
       "3   Mobile Phones  \n",
       "4   Mobile Phones  "
      ]
     },
     "execution_count": 3,
     "metadata": {},
     "output_type": "execute_result"
    }
   ],
   "source": [
    "df = pd.read_csv(\"../cases/case_2/dataset2.zip\")\n",
    "df.head()"
   ]
  },
  {
   "cell_type": "code",
   "execution_count": 4,
   "metadata": {},
   "outputs": [
    {
     "data": {
      "text/plain": [
       "Fridge Freezers     5501\n",
       "Mobile Phones       4081\n",
       "Washing Machines    4044\n",
       "CPUs                3862\n",
       "Fridges             3584\n",
       "TVs                 3564\n",
       "Dishwashers         3424\n",
       "Digital Cameras     2697\n",
       "Microwaves          2342\n",
       "Freezers            2212\n",
       "Name:  Category Label, dtype: int64"
      ]
     },
     "execution_count": 4,
     "metadata": {},
     "output_type": "execute_result"
    }
   ],
   "source": [
    "df[\" Category Label\"].value_counts()"
   ]
  },
  {
   "cell_type": "code",
   "execution_count": 5,
   "metadata": {},
   "outputs": [
    {
     "data": {
      "text/plain": [
       "Canon IXUS 185              27\n",
       "Samsung UE49NU7100          24\n",
       "Canon PowerShot SX730 HS    24\n",
       "Samsung UE65NU7100          23\n",
       "Canon IXUS 285 HS           23\n",
       "                            ..\n",
       "Beko WDX8543130W             1\n",
       "LG F1496TDA                  1\n",
       "Logik L612WM16               1\n",
       "Bosch WAN28280GB             1\n",
       "Siemens WM14T470GB           1\n",
       "Name:  Cluster Label, Length: 12849, dtype: int64"
      ]
     },
     "execution_count": 5,
     "metadata": {},
     "output_type": "execute_result"
    }
   ],
   "source": [
    "df[\" Cluster Label\"].value_counts()"
   ]
  },
  {
   "cell_type": "code",
   "execution_count": 6,
   "metadata": {},
   "outputs": [
    {
     "name": "stdout",
     "output_type": "stream",
     "text": [
      "(2612,\"Mobile Phones\"),\n",
      "(2614,\"TVs\"),\n",
      "(2615,\"CPUs\"),\n",
      "(2617,\"Digital Cameras\"),\n",
      "(2618,\"Microwaves\"),\n",
      "(2619,\"Dishwashers\"),\n",
      "(2620,\"Washing Machines\"),\n",
      "(2621,\"Freezers\"),\n",
      "(2622,\"Fridge Freezers\"),\n",
      "(2623,\"Fridges\"),\n"
     ]
    }
   ],
   "source": [
    "for idx, row in df[[\" Category ID\", \" Category Label\"]].drop_duplicates().iterrows():\n",
    "    print(f'({row[\" Category ID\"]},\"{row[\" Category Label\"]}\"),', sep=\",\")"
   ]
  },
  {
   "cell_type": "markdown",
   "metadata": {},
   "source": [
    "# Model on first word"
   ]
  },
  {
   "cell_type": "code",
   "execution_count": 7,
   "metadata": {},
   "outputs": [
    {
     "data": {
      "text/plain": [
       "284"
      ]
     },
     "execution_count": 7,
     "metadata": {},
     "output_type": "execute_result"
    }
   ],
   "source": [
    "df[\"first_word\"] = df[\" Cluster Label\"].str.split().str[0]\n",
    "df[\"first_word\"].nunique()"
   ]
  },
  {
   "cell_type": "code",
   "execution_count": 8,
   "metadata": {},
   "outputs": [
    {
     "name": "stderr",
     "output_type": "stream",
     "text": [
      "/home/samoed/.pyenv/versions/3.10.4/lib/python3.10/site-packages/scipy/__init__.py:155: UserWarning: A NumPy version >=1.18.5 and <1.26.0 is required for this version of SciPy (detected version 1.26.2\n",
      "  warnings.warn(f\"A NumPy version >={np_minversion} and <{np_maxversion}\"\n"
     ]
    }
   ],
   "source": [
    "from sklearn.preprocessing import LabelEncoder, OrdinalEncoder\n",
    "from sklearn.model_selection import train_test_split\n",
    "from sklearn.ensemble import RandomForestClassifier\n",
    "from sklearn.metrics import classification_report\n",
    "from sklearn.pipeline import Pipeline\n",
    "\n",
    "X = df[\"first_word\"]\n",
    "y = df[\" Category ID\"]\n",
    "\n",
    "X_train, X_test, y_train, y_test = train_test_split(\n",
    "    X, y, test_size=0.2, random_state=42\n",
    ")\n",
    "\n",
    "pipleline = Pipeline(\n",
    "    [\n",
    "        (\n",
    "            \"encoder\",\n",
    "            OrdinalEncoder(handle_unknown=\"use_encoded_value\", unknown_value=int(1e9)),\n",
    "        ),\n",
    "        (\"model\", RandomForestClassifier()),\n",
    "    ]\n",
    ")"
   ]
  },
  {
   "cell_type": "code",
   "execution_count": 9,
   "metadata": {},
   "outputs": [
    {
     "data": {
      "text/plain": [
       "0.5459436500070791"
      ]
     },
     "execution_count": 9,
     "metadata": {},
     "output_type": "execute_result"
    }
   ],
   "source": [
    "pipleline.fit(pd.DataFrame(X_train), y_train)\n",
    "\n",
    "pipleline.score(pd.DataFrame(X_test), y_test)"
   ]
  },
  {
   "cell_type": "code",
   "execution_count": 10,
   "metadata": {},
   "outputs": [
    {
     "name": "stdout",
     "output_type": "stream",
     "text": [
      "              precision    recall  f1-score   support\n",
      "\n",
      "        2612       1.00      0.74      0.85       818\n",
      "        2614       0.53      0.88      0.66       723\n",
      "        2615       1.00      1.00      1.00       771\n",
      "        2617       0.83      0.80      0.82       542\n",
      "        2618       0.60      0.32      0.41       469\n",
      "        2619       0.26      0.55      0.36       662\n",
      "        2620       0.39      0.50      0.44       796\n",
      "        2621       0.43      0.11      0.17       439\n",
      "        2622       0.37      0.38      0.37      1115\n",
      "        2623       0.44      0.04      0.07       728\n",
      "\n",
      "    accuracy                           0.55      7063\n",
      "   macro avg       0.59      0.53      0.52      7063\n",
      "weighted avg       0.58      0.55      0.53      7063\n",
      "\n"
     ]
    }
   ],
   "source": [
    "print(classification_report(y_test, pipleline.predict(pd.DataFrame(X_test))))"
   ]
  },
  {
   "cell_type": "code",
   "execution_count": 11,
   "metadata": {},
   "outputs": [
    {
     "data": {
      "text/plain": [
       "['/home/samoed/Desktop/itmo-ai-meta/ml-service/experiments/../backend/models/base.joblib']"
      ]
     },
     "execution_count": 11,
     "metadata": {},
     "output_type": "execute_result"
    }
   ],
   "source": [
    "joblib.dump(pipleline, os.path.join(MODELS_DIR, \"base.joblib\"))"
   ]
  },
  {
   "cell_type": "markdown",
   "metadata": {},
   "source": [
    "# TF-iDF + Logreg on cluster label"
   ]
  },
  {
   "cell_type": "code",
   "execution_count": 12,
   "metadata": {},
   "outputs": [],
   "source": [
    "from sklearn.feature_extraction.text import TfidfVectorizer\n",
    "from sklearn.pipeline import Pipeline\n",
    "from sklearn.linear_model import LogisticRegression"
   ]
  },
  {
   "cell_type": "code",
   "execution_count": 13,
   "metadata": {},
   "outputs": [],
   "source": [
    "X = df[\" Cluster Label\"]\n",
    "y = df[\" Category ID\"]\n",
    "\n",
    "X_train, X_test, y_train, y_test = train_test_split(\n",
    "    X, y, test_size=0.2, random_state=42\n",
    ")"
   ]
  },
  {
   "cell_type": "code",
   "execution_count": 14,
   "metadata": {},
   "outputs": [
    {
     "name": "stderr",
     "output_type": "stream",
     "text": [
      "/home/samoed/.pyenv/versions/3.10.4/lib/python3.10/site-packages/sklearn/linear_model/_logistic.py:460: ConvergenceWarning: lbfgs failed to converge (status=1):\n",
      "STOP: TOTAL NO. of ITERATIONS REACHED LIMIT.\n",
      "\n",
      "Increase the number of iterations (max_iter) or scale the data as shown in:\n",
      "    https://scikit-learn.org/stable/modules/preprocessing.html\n",
      "Please also refer to the documentation for alternative solver options:\n",
      "    https://scikit-learn.org/stable/modules/linear_model.html#logistic-regression\n",
      "  n_iter_i = _check_optimize_result(\n"
     ]
    },
    {
     "data": {
      "text/html": [
       "<style>#sk-container-id-1 {color: black;}#sk-container-id-1 pre{padding: 0;}#sk-container-id-1 div.sk-toggleable {background-color: white;}#sk-container-id-1 label.sk-toggleable__label {cursor: pointer;display: block;width: 100%;margin-bottom: 0;padding: 0.3em;box-sizing: border-box;text-align: center;}#sk-container-id-1 label.sk-toggleable__label-arrow:before {content: \"▸\";float: left;margin-right: 0.25em;color: #696969;}#sk-container-id-1 label.sk-toggleable__label-arrow:hover:before {color: black;}#sk-container-id-1 div.sk-estimator:hover label.sk-toggleable__label-arrow:before {color: black;}#sk-container-id-1 div.sk-toggleable__content {max-height: 0;max-width: 0;overflow: hidden;text-align: left;background-color: #f0f8ff;}#sk-container-id-1 div.sk-toggleable__content pre {margin: 0.2em;color: black;border-radius: 0.25em;background-color: #f0f8ff;}#sk-container-id-1 input.sk-toggleable__control:checked~div.sk-toggleable__content {max-height: 200px;max-width: 100%;overflow: auto;}#sk-container-id-1 input.sk-toggleable__control:checked~label.sk-toggleable__label-arrow:before {content: \"▾\";}#sk-container-id-1 div.sk-estimator input.sk-toggleable__control:checked~label.sk-toggleable__label {background-color: #d4ebff;}#sk-container-id-1 div.sk-label input.sk-toggleable__control:checked~label.sk-toggleable__label {background-color: #d4ebff;}#sk-container-id-1 input.sk-hidden--visually {border: 0;clip: rect(1px 1px 1px 1px);clip: rect(1px, 1px, 1px, 1px);height: 1px;margin: -1px;overflow: hidden;padding: 0;position: absolute;width: 1px;}#sk-container-id-1 div.sk-estimator {font-family: monospace;background-color: #f0f8ff;border: 1px dotted black;border-radius: 0.25em;box-sizing: border-box;margin-bottom: 0.5em;}#sk-container-id-1 div.sk-estimator:hover {background-color: #d4ebff;}#sk-container-id-1 div.sk-parallel-item::after {content: \"\";width: 100%;border-bottom: 1px solid gray;flex-grow: 1;}#sk-container-id-1 div.sk-label:hover label.sk-toggleable__label {background-color: #d4ebff;}#sk-container-id-1 div.sk-serial::before {content: \"\";position: absolute;border-left: 1px solid gray;box-sizing: border-box;top: 0;bottom: 0;left: 50%;z-index: 0;}#sk-container-id-1 div.sk-serial {display: flex;flex-direction: column;align-items: center;background-color: white;padding-right: 0.2em;padding-left: 0.2em;position: relative;}#sk-container-id-1 div.sk-item {position: relative;z-index: 1;}#sk-container-id-1 div.sk-parallel {display: flex;align-items: stretch;justify-content: center;background-color: white;position: relative;}#sk-container-id-1 div.sk-item::before, #sk-container-id-1 div.sk-parallel-item::before {content: \"\";position: absolute;border-left: 1px solid gray;box-sizing: border-box;top: 0;bottom: 0;left: 50%;z-index: -1;}#sk-container-id-1 div.sk-parallel-item {display: flex;flex-direction: column;z-index: 1;position: relative;background-color: white;}#sk-container-id-1 div.sk-parallel-item:first-child::after {align-self: flex-end;width: 50%;}#sk-container-id-1 div.sk-parallel-item:last-child::after {align-self: flex-start;width: 50%;}#sk-container-id-1 div.sk-parallel-item:only-child::after {width: 0;}#sk-container-id-1 div.sk-dashed-wrapped {border: 1px dashed gray;margin: 0 0.4em 0.5em 0.4em;box-sizing: border-box;padding-bottom: 0.4em;background-color: white;}#sk-container-id-1 div.sk-label label {font-family: monospace;font-weight: bold;display: inline-block;line-height: 1.2em;}#sk-container-id-1 div.sk-label-container {text-align: center;}#sk-container-id-1 div.sk-container {/* jupyter's `normalize.less` sets `[hidden] { display: none; }` but bootstrap.min.css set `[hidden] { display: none !important; }` so we also need the `!important` here to be able to override the default hidden behavior on the sphinx rendered scikit-learn.org. See: https://github.com/scikit-learn/scikit-learn/issues/21755 */display: inline-block !important;position: relative;}#sk-container-id-1 div.sk-text-repr-fallback {display: none;}</style><div id=\"sk-container-id-1\" class=\"sk-top-container\"><div class=\"sk-text-repr-fallback\"><pre>Pipeline(steps=[(&#x27;tfidf&#x27;, TfidfVectorizer()),\n",
       "                (&#x27;clf&#x27;, LogisticRegression(random_state=42))])</pre><b>In a Jupyter environment, please rerun this cell to show the HTML representation or trust the notebook. <br />On GitHub, the HTML representation is unable to render, please try loading this page with nbviewer.org.</b></div><div class=\"sk-container\" hidden><div class=\"sk-item sk-dashed-wrapped\"><div class=\"sk-label-container\"><div class=\"sk-label sk-toggleable\"><input class=\"sk-toggleable__control sk-hidden--visually\" id=\"sk-estimator-id-1\" type=\"checkbox\" ><label for=\"sk-estimator-id-1\" class=\"sk-toggleable__label sk-toggleable__label-arrow\">Pipeline</label><div class=\"sk-toggleable__content\"><pre>Pipeline(steps=[(&#x27;tfidf&#x27;, TfidfVectorizer()),\n",
       "                (&#x27;clf&#x27;, LogisticRegression(random_state=42))])</pre></div></div></div><div class=\"sk-serial\"><div class=\"sk-item\"><div class=\"sk-estimator sk-toggleable\"><input class=\"sk-toggleable__control sk-hidden--visually\" id=\"sk-estimator-id-2\" type=\"checkbox\" ><label for=\"sk-estimator-id-2\" class=\"sk-toggleable__label sk-toggleable__label-arrow\">TfidfVectorizer</label><div class=\"sk-toggleable__content\"><pre>TfidfVectorizer()</pre></div></div></div><div class=\"sk-item\"><div class=\"sk-estimator sk-toggleable\"><input class=\"sk-toggleable__control sk-hidden--visually\" id=\"sk-estimator-id-3\" type=\"checkbox\" ><label for=\"sk-estimator-id-3\" class=\"sk-toggleable__label sk-toggleable__label-arrow\">LogisticRegression</label><div class=\"sk-toggleable__content\"><pre>LogisticRegression(random_state=42)</pre></div></div></div></div></div></div></div>"
      ],
      "text/plain": [
       "Pipeline(steps=[('tfidf', TfidfVectorizer()),\n",
       "                ('clf', LogisticRegression(random_state=42))])"
      ]
     },
     "execution_count": 14,
     "metadata": {},
     "output_type": "execute_result"
    }
   ],
   "source": [
    "pipe = Pipeline(\n",
    "    [\n",
    "        (\"tfidf\", TfidfVectorizer()),\n",
    "        (\"clf\", LogisticRegression(random_state=42)),\n",
    "    ]\n",
    ")\n",
    "\n",
    "\n",
    "pipe.fit(X_train, y_train)"
   ]
  },
  {
   "cell_type": "code",
   "execution_count": 15,
   "metadata": {},
   "outputs": [
    {
     "name": "stdout",
     "output_type": "stream",
     "text": [
      "              precision    recall  f1-score   support\n",
      "\n",
      "        2612       1.00      0.97      0.99       818\n",
      "        2614       0.93      0.99      0.96       723\n",
      "        2615       1.00      1.00      1.00       771\n",
      "        2617       1.00      0.99      1.00       542\n",
      "        2618       0.89      0.89      0.89       469\n",
      "        2619       0.80      0.80      0.80       662\n",
      "        2620       0.93      0.96      0.95       796\n",
      "        2621       0.91      0.78      0.84       439\n",
      "        2622       0.82      0.87      0.84      1115\n",
      "        2623       0.88      0.82      0.85       728\n",
      "\n",
      "    accuracy                           0.91      7063\n",
      "   macro avg       0.91      0.91      0.91      7063\n",
      "weighted avg       0.91      0.91      0.91      7063\n",
      "\n"
     ]
    }
   ],
   "source": [
    "preditions = pipe.predict(X_test)\n",
    "\n",
    "print(classification_report(y_test, preditions))"
   ]
  },
  {
   "cell_type": "code",
   "execution_count": 16,
   "metadata": {},
   "outputs": [
    {
     "data": {
      "text/plain": [
       "['/home/samoed/Desktop/itmo-ai-meta/ml-service/experiments/../backend/models/logreg_tfidf.joblib']"
      ]
     },
     "execution_count": 16,
     "metadata": {},
     "output_type": "execute_result"
    }
   ],
   "source": [
    "joblib.dump(pipleline, os.path.join(MODELS_DIR, \"logreg_tfidf.joblib\"))"
   ]
  },
  {
   "cell_type": "markdown",
   "metadata": {},
   "source": [
    "# Catboost on ids"
   ]
  },
  {
   "cell_type": "code",
   "execution_count": 17,
   "metadata": {},
   "outputs": [],
   "source": [
    "from catboost import CatBoostClassifier"
   ]
  },
  {
   "cell_type": "code",
   "execution_count": 18,
   "metadata": {},
   "outputs": [
    {
     "name": "stderr",
     "output_type": "stream",
     "text": [
      "/home/samoed/.pyenv/versions/3.10.4/lib/python3.10/site-packages/catboost/core.py:1419: FutureWarning: iteritems is deprecated and will be removed in a future version. Use .items instead.\n",
      "  self._init_pool(data, label, cat_features, text_features, embedding_features, embedding_features_data, pairs, weight,\n"
     ]
    },
    {
     "data": {
      "text/plain": [
       "<catboost.core.CatBoostClassifier at 0x7f3471f82c50>"
      ]
     },
     "execution_count": 18,
     "metadata": {},
     "output_type": "execute_result"
    }
   ],
   "source": [
    "X = pd.DataFrame(df[\" Cluster Label\"])\n",
    "y = df[\" Category ID\"]\n",
    "\n",
    "X_train, X_test, y_train, y_test = train_test_split(\n",
    "    X, y, test_size=0.2, random_state=42\n",
    ")\n",
    "\n",
    "cat = CatBoostClassifier(\n",
    "    iterations=10,\n",
    "    learning_rate=0.1,\n",
    "    random_seed=42,\n",
    "    logging_level=\"Silent\",\n",
    "    task_type=\"GPU\",\n",
    "    text_features=[\" Cluster Label\"],\n",
    "    # cat_features=[\" Merchant ID\", \" Cluster ID\"],\n",
    ")\n",
    "\n",
    "cat.fit(X_train, y_train)"
   ]
  },
  {
   "cell_type": "code",
   "execution_count": 19,
   "metadata": {},
   "outputs": [
    {
     "name": "stdout",
     "output_type": "stream",
     "text": [
      "              precision    recall  f1-score   support\n",
      "\n",
      "        2612       1.00      0.97      0.98       818\n",
      "        2614       0.90      1.00      0.95       723\n",
      "        2615       1.00      1.00      1.00       771\n",
      "        2617       1.00      0.99      0.99       542\n",
      "        2618       0.84      0.71      0.77       469\n",
      "        2619       0.67      0.51      0.58       662\n",
      "        2620       0.94      0.94      0.94       796\n",
      "        2621       0.87      0.54      0.66       439\n",
      "        2622       0.67      0.76      0.71      1115\n",
      "        2623       0.58      0.75      0.66       728\n",
      "\n",
      "    accuracy                           0.83      7063\n",
      "   macro avg       0.85      0.82      0.82      7063\n",
      "weighted avg       0.84      0.83      0.83      7063\n",
      "\n"
     ]
    }
   ],
   "source": [
    "pred = cat.predict(X_test)\n",
    "\n",
    "print(classification_report(y_test, pred))"
   ]
  },
  {
   "cell_type": "code",
   "execution_count": 20,
   "metadata": {},
   "outputs": [],
   "source": [
    "cat.save_model(os.path.join(MODELS_DIR, \"catboost.model\"))"
   ]
  },
  {
   "cell_type": "code",
   "execution_count": null,
   "metadata": {},
   "outputs": [],
   "source": []
  }
 ],
 "metadata": {
  "kernelspec": {
   "display_name": ".venv",
   "language": "python",
   "name": "python3"
  },
  "language_info": {
   "codemirror_mode": {
    "name": "ipython",
    "version": 3
   },
   "file_extension": ".py",
   "mimetype": "text/x-python",
   "name": "python",
   "nbconvert_exporter": "python",
   "pygments_lexer": "ipython3",
   "version": "3.10.4"
  }
 },
 "nbformat": 4,
 "nbformat_minor": 2
}
