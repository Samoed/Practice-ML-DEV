{
 "cells": [
  {
   "cell_type": "code",
   "execution_count": 1,
   "metadata": {},
   "outputs": [],
   "source": [
    "import pandas as pd"
   ]
  },
  {
   "cell_type": "code",
   "execution_count": 2,
   "metadata": {},
   "outputs": [
    {
     "data": {
      "text/html": [
       "<div>\n",
       "<style scoped>\n",
       "    .dataframe tbody tr th:only-of-type {\n",
       "        vertical-align: middle;\n",
       "    }\n",
       "\n",
       "    .dataframe tbody tr th {\n",
       "        vertical-align: top;\n",
       "    }\n",
       "\n",
       "    .dataframe thead th {\n",
       "        text-align: right;\n",
       "    }\n",
       "</style>\n",
       "<table border=\"1\" class=\"dataframe\">\n",
       "  <thead>\n",
       "    <tr style=\"text-align: right;\">\n",
       "      <th></th>\n",
       "      <th>Product ID</th>\n",
       "      <th>Product Title</th>\n",
       "      <th>Merchant ID</th>\n",
       "      <th>Cluster ID</th>\n",
       "      <th>Cluster Label</th>\n",
       "      <th>Category ID</th>\n",
       "      <th>Category Label</th>\n",
       "    </tr>\n",
       "  </thead>\n",
       "  <tbody>\n",
       "    <tr>\n",
       "      <th>0</th>\n",
       "      <td>1</td>\n",
       "      <td>apple iphone 8 plus 64gb silver</td>\n",
       "      <td>1</td>\n",
       "      <td>1</td>\n",
       "      <td>Apple iPhone 8 Plus 64GB</td>\n",
       "      <td>2612</td>\n",
       "      <td>Mobile Phones</td>\n",
       "    </tr>\n",
       "    <tr>\n",
       "      <th>1</th>\n",
       "      <td>2</td>\n",
       "      <td>apple iphone 8 plus 64 gb spacegrau</td>\n",
       "      <td>2</td>\n",
       "      <td>1</td>\n",
       "      <td>Apple iPhone 8 Plus 64GB</td>\n",
       "      <td>2612</td>\n",
       "      <td>Mobile Phones</td>\n",
       "    </tr>\n",
       "    <tr>\n",
       "      <th>2</th>\n",
       "      <td>3</td>\n",
       "      <td>apple mq8n2b/a iphone 8 plus 64gb 5.5 12mp sim...</td>\n",
       "      <td>3</td>\n",
       "      <td>1</td>\n",
       "      <td>Apple iPhone 8 Plus 64GB</td>\n",
       "      <td>2612</td>\n",
       "      <td>Mobile Phones</td>\n",
       "    </tr>\n",
       "    <tr>\n",
       "      <th>3</th>\n",
       "      <td>4</td>\n",
       "      <td>apple iphone 8 plus 64gb space grey</td>\n",
       "      <td>4</td>\n",
       "      <td>1</td>\n",
       "      <td>Apple iPhone 8 Plus 64GB</td>\n",
       "      <td>2612</td>\n",
       "      <td>Mobile Phones</td>\n",
       "    </tr>\n",
       "    <tr>\n",
       "      <th>4</th>\n",
       "      <td>5</td>\n",
       "      <td>apple iphone 8 plus gold 5.5 64gb 4g unlocked ...</td>\n",
       "      <td>5</td>\n",
       "      <td>1</td>\n",
       "      <td>Apple iPhone 8 Plus 64GB</td>\n",
       "      <td>2612</td>\n",
       "      <td>Mobile Phones</td>\n",
       "    </tr>\n",
       "  </tbody>\n",
       "</table>\n",
       "</div>"
      ],
      "text/plain": [
       "   Product ID                                      Product Title  \\\n",
       "0           1                    apple iphone 8 plus 64gb silver   \n",
       "1           2                apple iphone 8 plus 64 gb spacegrau   \n",
       "2           3  apple mq8n2b/a iphone 8 plus 64gb 5.5 12mp sim...   \n",
       "3           4                apple iphone 8 plus 64gb space grey   \n",
       "4           5  apple iphone 8 plus gold 5.5 64gb 4g unlocked ...   \n",
       "\n",
       "    Merchant ID   Cluster ID             Cluster Label   Category ID  \\\n",
       "0             1            1  Apple iPhone 8 Plus 64GB          2612   \n",
       "1             2            1  Apple iPhone 8 Plus 64GB          2612   \n",
       "2             3            1  Apple iPhone 8 Plus 64GB          2612   \n",
       "3             4            1  Apple iPhone 8 Plus 64GB          2612   \n",
       "4             5            1  Apple iPhone 8 Plus 64GB          2612   \n",
       "\n",
       "   Category Label  \n",
       "0   Mobile Phones  \n",
       "1   Mobile Phones  \n",
       "2   Mobile Phones  \n",
       "3   Mobile Phones  \n",
       "4   Mobile Phones  "
      ]
     },
     "execution_count": 2,
     "metadata": {},
     "output_type": "execute_result"
    }
   ],
   "source": [
    "df = pd.read_csv(\"../data/dataset2.zip\")\n",
    "df.head()"
   ]
  },
  {
   "cell_type": "code",
   "execution_count": 3,
   "metadata": {},
   "outputs": [
    {
     "data": {
      "text/plain": [
       "Fridge Freezers     5501\n",
       "Mobile Phones       4081\n",
       "Washing Machines    4044\n",
       "CPUs                3862\n",
       "Fridges             3584\n",
       "TVs                 3564\n",
       "Dishwashers         3424\n",
       "Digital Cameras     2697\n",
       "Microwaves          2342\n",
       "Freezers            2212\n",
       "Name:  Category Label, dtype: int64"
      ]
     },
     "execution_count": 3,
     "metadata": {},
     "output_type": "execute_result"
    }
   ],
   "source": [
    "df[\" Category Label\"].value_counts()"
   ]
  },
  {
   "cell_type": "code",
   "execution_count": 4,
   "metadata": {},
   "outputs": [
    {
     "data": {
      "text/plain": [
       "Canon IXUS 185              27\n",
       "Samsung UE49NU7100          24\n",
       "Canon PowerShot SX730 HS    24\n",
       "Samsung UE65NU7100          23\n",
       "Canon IXUS 285 HS           23\n",
       "                            ..\n",
       "Beko WDX8543130W             1\n",
       "LG F1496TDA                  1\n",
       "Logik L612WM16               1\n",
       "Bosch WAN28280GB             1\n",
       "Siemens WM14T470GB           1\n",
       "Name:  Cluster Label, Length: 12849, dtype: int64"
      ]
     },
     "execution_count": 4,
     "metadata": {},
     "output_type": "execute_result"
    }
   ],
   "source": [
    "df[\" Cluster Label\"].value_counts()"
   ]
  },
  {
   "cell_type": "markdown",
   "metadata": {},
   "source": [
    "# Model on first word"
   ]
  },
  {
   "cell_type": "code",
   "execution_count": 5,
   "metadata": {},
   "outputs": [
    {
     "data": {
      "text/plain": [
       "284"
      ]
     },
     "execution_count": 5,
     "metadata": {},
     "output_type": "execute_result"
    }
   ],
   "source": [
    "df[\"first_word\"] = df[\" Cluster Label\"].str.split().str[0]\n",
    "df[\"first_word\"].nunique()"
   ]
  },
  {
   "cell_type": "code",
   "execution_count": 15,
   "metadata": {},
   "outputs": [],
   "source": [
    "from sklearn.preprocessing import LabelEncoder\n",
    "from sklearn.model_selection import train_test_split\n",
    "from sklearn.ensemble import RandomForestClassifier\n",
    "from sklearn.metrics import classification_report\n",
    "\n",
    "X = df[\"first_word\"]\n",
    "y = df[\" Category ID\"]\n",
    "\n",
    "X_train, X_test, y_train, y_test = train_test_split(X, y, test_size=0.2, random_state=42)\n",
    "\n",
    "le = LabelEncoder()\n",
    "\n",
    "X_train = le.fit_transform(X_train)"
   ]
  },
  {
   "cell_type": "code",
   "execution_count": 16,
   "metadata": {},
   "outputs": [
    {
     "data": {
      "text/plain": [
       "array(['AEG', 'AMD', 'ASUS', 'Acer', 'Adelberg', 'AgfaPhoto', 'Akai',\n",
       "       'Alcatel', 'Aligator', 'Allcall', 'Allview', 'Amazon', 'Amica',\n",
       "       'Amplicomms', 'Apple', 'Archos', 'Ariston', 'Audioline', 'Avtex',\n",
       "       'Bauknecht', 'Baumatic', 'Bea-fon', 'Beafon', 'Beko', 'Belling',\n",
       "       'Benq', 'Binatone', 'Blackberry', 'Blackview', 'Blaupunkt',\n",
       "       'Blizzard', 'Blomberg', 'Blu', 'Bluboo', 'Bomann', 'Bosch', 'Bq',\n",
       "       'Breville', 'Britannia', 'Bush', 'CASO', 'CAT', 'CDA', 'Candy',\n",
       "       'Canon', 'Caple', 'Casio', 'Cello', 'Changhong', 'Cisco',\n",
       "       'Clatronic', 'Constructa', 'Cookology', 'Cookworks', 'Crosscall',\n",
       "       'Cubot', 'Cylinda', 'Cyrus', 'Daewoo', 'De', 'DeLonghi', 'Dell',\n",
       "       'Denver', 'Dewalt', 'DigiHome', 'Digiquest', 'Disney', 'Dometic',\n",
       "       'Doogee', 'Doro', 'Dyon', 'Dörr', 'E98CWW', 'Easypix', 'Ebac',\n",
       "       'Elari', 'ElectrIQ', 'Electra', 'Electrolux', 'Elephone',\n",
       "       'Emporia', 'Energizer', 'Energy', 'Essentials', 'Estar',\n",
       "       'Exquisit', 'Fantec', 'Ferguson', 'Finlux', 'Fisher', 'Flavel',\n",
       "       'Fridgemaster', 'Frigidaire', 'Fujifilm', 'Fujitsu', 'Funai',\n",
       "       'GGV', 'Gaggenau', 'Geemarc', 'General', 'Geotel', 'Getnord',\n",
       "       'Gigaset', 'GoClever', 'Gogen', 'Goodmans', 'Google', 'Gorenje',\n",
       "       'Grundig', 'HP', 'HTC', 'Haier', 'Hasselblad', 'Hisense', 'Homtom',\n",
       "       'Honeywell', 'Hoover', 'Hotpoint', 'Hotpoint-Ariston', 'Huawei',\n",
       "       'Husky', 'IBM', 'Iberna', 'Ice', 'Iceking', 'Igenix', 'Indesit',\n",
       "       'Inov8', 'Intel', 'JCB', 'JVC', 'John', 'Just5', 'KAM960X',\n",
       "       'Kazam', 'Kenwood', 'Kenxinda', 'Kitchenaid', 'Kodak', 'Krüger',\n",
       "       'Kuhla', 'Kurio', 'LG', 'Land', 'Leagoo', 'Lec', 'Leica',\n",
       "       'Leisure', 'Lenco', 'Lenovo', 'Lexibook', 'Liebherr', 'Linsar',\n",
       "       'Loewe', 'Logik', 'Lumigon', 'Luxor', 'Lytro', 'M-horse', 'Manta',\n",
       "       'Marshall', 'Matrix', 'Maxcom', 'Maytag', 'Medion', 'Meizu',\n",
       "       'Microsoft', 'Miele', 'Mobicool', 'Mobistel', 'Montpellier',\n",
       "       'Morphy', 'Moto', 'Motorola', 'MyAppliances', 'Myphone', 'N5L',\n",
       "       'NORMENDE', 'Nabo', 'Neff', 'New', 'Nikon', 'Nokia', 'Nordemende',\n",
       "       'Nordmende', 'Olympia', 'Olympus', 'OnePlus', 'Oppo', 'Oranier',\n",
       "       'Orava', 'Oukitel', 'Panasonic', 'Pelitt', 'Pentax', 'Phicomm',\n",
       "       'Philips', 'PictureFrame.TV', 'Polaroid', 'Praktica', 'Prestigio',\n",
       "       'Privileg', 'Pro', 'Profi', 'Profoon', 'Proscan', 'Rangemaster',\n",
       "       'Razer', 'Reflexion', 'Ricoh', 'Rollei', 'RugGear', 'Russell',\n",
       "       'SIA', 'SN436S00GD', 'STK', 'Saba', 'Sage', \"Sainsbury's\",\n",
       "       'Samsung', 'Sanyo', 'Sealife', 'Sencor', 'Servis', 'Severin',\n",
       "       'Sharp', 'Siemens', 'Sigma', 'Silva', 'Silverline', 'Smeg', 'Sony',\n",
       "       'Statesman', 'Stoves', 'Swan', 'Swisstone', 'TCL', 'THL',\n",
       "       'TP-Link', 'TTfone', 'Teba', 'TechLine', 'Techvision', 'Techwood',\n",
       "       'Teka', 'Teknix', 'Telefunken', 'Telme', 'Thomson', 'Toshiba',\n",
       "       'Tower', 'Tuff', 'UleFone', 'Umidigi', 'Vernee', 'Vestfrost',\n",
       "       'Viewsonic', 'Vision', 'Vivitar', 'Vivo', 'Vkworld', 'Vtech',\n",
       "       'Waeco', 'Westinghouse', 'Whirlpool', 'White', 'Wiko', 'Wileyfox',\n",
       "       'X4', 'Xiaomi', 'Xoro', 'YI', 'Yota', 'Zanker', 'Zanussi', 'Zte',\n",
       "       'iceQ'], dtype=object)"
      ]
     },
     "execution_count": 16,
     "metadata": {},
     "output_type": "execute_result"
    }
   ],
   "source": [
    "le.classes_"
   ]
  },
  {
   "cell_type": "code",
   "execution_count": 17,
   "metadata": {},
   "outputs": [],
   "source": [
    "# transform values of X_test that are not in X_train to \"Apple\"\n",
    "X_test = [\"Apple\" if x not in le.classes_ else x for x in X_test]"
   ]
  },
  {
   "cell_type": "code",
   "execution_count": 18,
   "metadata": {},
   "outputs": [],
   "source": [
    "X_test = le.transform(X_test)"
   ]
  },
  {
   "cell_type": "code",
   "execution_count": 19,
   "metadata": {},
   "outputs": [
    {
     "data": {
      "text/plain": [
       "0.2790598895653405"
      ]
     },
     "execution_count": 19,
     "metadata": {},
     "output_type": "execute_result"
    }
   ],
   "source": [
    "forest = RandomForestClassifier(n_estimators=10, max_depth=3, random_state=42)\n",
    "\n",
    "forest.fit(pd.DataFrame(X_train), y_train)\n",
    "\n",
    "forest.score(pd.DataFrame(X_test), y_test)"
   ]
  },
  {
   "cell_type": "code",
   "execution_count": 20,
   "metadata": {},
   "outputs": [
    {
     "name": "stdout",
     "output_type": "stream",
     "text": [
      "              precision    recall  f1-score   support\n",
      "\n",
      "        2612       0.00      0.00      0.00       818\n",
      "        2614       0.21      0.91      0.34       723\n",
      "        2615       1.00      0.54      0.70       771\n",
      "        2617       0.51      0.03      0.06       542\n",
      "        2618       0.00      0.00      0.00       469\n",
      "        2619       0.00      0.00      0.00       662\n",
      "        2620       0.41      0.33      0.36       796\n",
      "        2621       0.00      0.00      0.00       439\n",
      "        2622       0.22      0.55      0.31      1115\n",
      "        2623       0.00      0.00      0.00       728\n",
      "\n",
      "    accuracy                           0.28      7063\n",
      "   macro avg       0.23      0.24      0.18      7063\n",
      "weighted avg       0.25      0.28      0.21      7063\n",
      "\n"
     ]
    },
    {
     "name": "stderr",
     "output_type": "stream",
     "text": [
      "/home/samoed/.pyenv/versions/3.10.4/lib/python3.10/site-packages/sklearn/metrics/_classification.py:1469: UndefinedMetricWarning: Precision and F-score are ill-defined and being set to 0.0 in labels with no predicted samples. Use `zero_division` parameter to control this behavior.\n",
      "  _warn_prf(average, modifier, msg_start, len(result))\n",
      "/home/samoed/.pyenv/versions/3.10.4/lib/python3.10/site-packages/sklearn/metrics/_classification.py:1469: UndefinedMetricWarning: Precision and F-score are ill-defined and being set to 0.0 in labels with no predicted samples. Use `zero_division` parameter to control this behavior.\n",
      "  _warn_prf(average, modifier, msg_start, len(result))\n",
      "/home/samoed/.pyenv/versions/3.10.4/lib/python3.10/site-packages/sklearn/metrics/_classification.py:1469: UndefinedMetricWarning: Precision and F-score are ill-defined and being set to 0.0 in labels with no predicted samples. Use `zero_division` parameter to control this behavior.\n",
      "  _warn_prf(average, modifier, msg_start, len(result))\n"
     ]
    }
   ],
   "source": [
    "print(classification_report(y_test, forest.predict(pd.DataFrame(X_test))))"
   ]
  },
  {
   "cell_type": "markdown",
   "metadata": {},
   "source": [
    "# TF-iDF + Logreg on cluster label"
   ]
  },
  {
   "cell_type": "code",
   "execution_count": 21,
   "metadata": {},
   "outputs": [],
   "source": [
    "from sklearn.feature_extraction.text import TfidfVectorizer\n",
    "from sklearn.pipeline import Pipeline\n",
    "from sklearn.linear_model import LogisticRegression"
   ]
  },
  {
   "cell_type": "code",
   "execution_count": 23,
   "metadata": {},
   "outputs": [],
   "source": [
    "X = df[\" Cluster Label\"]\n",
    "y = df[\" Category ID\"]\n",
    "\n",
    "X_train, X_test, y_train, y_test = train_test_split(X, y, test_size=0.2, random_state=42)"
   ]
  },
  {
   "cell_type": "code",
   "execution_count": null,
   "metadata": {},
   "outputs": [],
   "source": [
    "pipe = Pipeline(\n",
    "    [\n",
    "        (\"tfidf\", TfidfVectorizer()),\n",
    "        (\"clf\", LogisticRegression(random_state=42)),\n",
    "    ]\n",
    ")\n",
    "\n",
    "\n",
    "pipe.fit(X_train, y_train)"
   ]
  },
  {
   "cell_type": "code",
   "execution_count": 25,
   "metadata": {},
   "outputs": [
    {
     "name": "stdout",
     "output_type": "stream",
     "text": [
      "              precision    recall  f1-score   support\n",
      "\n",
      "        2612       1.00      0.97      0.99       818\n",
      "        2614       0.93      0.99      0.96       723\n",
      "        2615       1.00      1.00      1.00       771\n",
      "        2617       1.00      0.99      1.00       542\n",
      "        2618       0.89      0.89      0.89       469\n",
      "        2619       0.80      0.80      0.80       662\n",
      "        2620       0.93      0.96      0.95       796\n",
      "        2621       0.91      0.78      0.84       439\n",
      "        2622       0.82      0.87      0.84      1115\n",
      "        2623       0.88      0.82      0.85       728\n",
      "\n",
      "    accuracy                           0.91      7063\n",
      "   macro avg       0.91      0.91      0.91      7063\n",
      "weighted avg       0.91      0.91      0.91      7063\n",
      "\n"
     ]
    }
   ],
   "source": [
    "preditions = pipe.predict(X_test)\n",
    "\n",
    "print(classification_report(y_test, preditions))"
   ]
  },
  {
   "cell_type": "markdown",
   "metadata": {},
   "source": [
    "# Catboost on ids"
   ]
  },
  {
   "cell_type": "code",
   "execution_count": 26,
   "metadata": {},
   "outputs": [],
   "source": [
    "from catboost import CatBoostClassifier"
   ]
  },
  {
   "cell_type": "code",
   "execution_count": 40,
   "metadata": {},
   "outputs": [
    {
     "name": "stderr",
     "output_type": "stream",
     "text": [
      "/home/samoed/.pyenv/versions/3.10.4/lib/python3.10/site-packages/catboost/core.py:1419: FutureWarning: iteritems is deprecated and will be removed in a future version. Use .items instead.\n",
      "  self._init_pool(data, label, cat_features, text_features, embedding_features, embedding_features_data, pairs, weight,\n"
     ]
    },
    {
     "data": {
      "text/plain": [
       "<catboost.core.CatBoostClassifier at 0x7f7eb720c280>"
      ]
     },
     "execution_count": 40,
     "metadata": {},
     "output_type": "execute_result"
    }
   ],
   "source": [
    "X = df[[\" Merchant ID\", \" Cluster ID\"]]\n",
    "y = df[\" Category ID\"]\n",
    "\n",
    "X_train, X_test, y_train, y_test = train_test_split(X, y, test_size=0.2, random_state=42)\n",
    "\n",
    "cat = CatBoostClassifier(\n",
    "    iterations=10,\n",
    "    learning_rate=0.1,\n",
    "    random_seed=42,\n",
    "    logging_level=\"Silent\",\n",
    "    task_type=\"GPU\",\n",
    "    # cat_features=[\" Merchant ID\", \" Cluster ID\"],\n",
    ")\n",
    "\n",
    "cat.fit(X_train, y_train)"
   ]
  },
  {
   "cell_type": "code",
   "execution_count": 41,
   "metadata": {},
   "outputs": [
    {
     "name": "stdout",
     "output_type": "stream",
     "text": [
      "              precision    recall  f1-score   support\n",
      "\n",
      "        2612       0.98      1.00      0.99       818\n",
      "        2614       0.97      0.98      0.98       723\n",
      "        2615       0.98      0.97      0.98       771\n",
      "        2617       1.00      0.93      0.97       542\n",
      "        2618       0.95      1.00      0.97       469\n",
      "        2619       1.00      0.96      0.98       662\n",
      "        2620       0.97      0.99      0.98       796\n",
      "        2621       0.98      0.98      0.98       439\n",
      "        2622       0.99      1.00      0.99      1115\n",
      "        2623       0.99      1.00      1.00       728\n",
      "\n",
      "    accuracy                           0.98      7063\n",
      "   macro avg       0.98      0.98      0.98      7063\n",
      "weighted avg       0.98      0.98      0.98      7063\n",
      "\n"
     ]
    }
   ],
   "source": [
    "pred = cat.predict(X_test)\n",
    "\n",
    "print(classification_report(y_test, pred))"
   ]
  },
  {
   "cell_type": "code",
   "execution_count": null,
   "metadata": {},
   "outputs": [],
   "source": []
  }
 ],
 "metadata": {
  "kernelspec": {
   "display_name": ".venv",
   "language": "python",
   "name": "python3"
  },
  "language_info": {
   "codemirror_mode": {
    "name": "ipython",
    "version": 3
   },
   "file_extension": ".py",
   "mimetype": "text/x-python",
   "name": "python",
   "nbconvert_exporter": "python",
   "pygments_lexer": "ipython3",
   "version": "3.10.4"
  }
 },
 "nbformat": 4,
 "nbformat_minor": 2
}
